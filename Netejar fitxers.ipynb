{
 "cells": [
  {
   "cell_type": "code",
   "execution_count": null,
   "metadata": {
    "colab": {
     "base_uri": "https://localhost:8080/"
    },
    "executionInfo": {
     "elapsed": 18909,
     "status": "ok",
     "timestamp": 1749050703520,
     "user": {
      "displayName": "Annabeth Chase",
      "userId": "14871518047499034280"
     },
     "user_tz": -120
    },
    "id": "xf92nV_bi0Vq",
    "outputId": "86646044-6756-4326-e976-949e8bd73fdf"
   },
   "outputs": [
    {
     "name": "stdout",
     "output_type": "stream",
     "text": [
      "Mounted at /content/drive\n"
     ]
    }
   ],
   "source": [
    "from google.colab import drive\n",
    "import os\n",
    "import re\n",
    "\n",
    "drive.mount('/content/drive')"
   ]
  },
  {
   "cell_type": "code",
   "execution_count": null,
   "metadata": {
    "colab": {
     "base_uri": "https://localhost:8080/"
    },
    "executionInfo": {
     "elapsed": 6728,
     "status": "ok",
     "timestamp": 1749050860758,
     "user": {
      "displayName": "Annabeth Chase",
      "userId": "14871518047499034280"
     },
     "user_tz": -120
    },
    "id": "WQQgVIcqHCEr",
    "outputId": "a240b50c-b30c-49f0-fe20-deb739edb844"
   },
   "outputs": [
    {
     "name": "stdout",
     "output_type": "stream",
     "text": [
      "✔️ Processat: DLFuzz_imagenet_10_20.txt\n",
      "✔️ Processat: Prova_DLFuzz_imagenet_10_21.txt\n",
      "✔️ Processat: DLFuzz_imagenet_10_22.txt\n",
      "✔️ Processat: DLFuzz_imagenet_10_23.txt\n",
      "✔️ Processat: DLFuzz_imagenet_10_13.txt\n",
      "✔️ Processat: DLFuzz_imagenet_10_12.txt\n",
      "✔️ Processat: DLFuzz_imagenet_10_11.txt\n",
      "✔️ Processat: DLFuzz_imagenet_10_10.txt\n",
      "✔️ Processat: DLFuzz_imagenet_10_30.txt\n",
      "✔️ Processat: DLFuzz_imagenet_10_31.txt\n",
      "✔️ Processat: DLFuzz_imagenet_10_32.txt\n",
      "✔️ Processat: DLFuzz_imagenet_10_33.txt\n"
     ]
    }
   ],
   "source": [
    "folder_path = \"/content/TFG/....\"\n",
    "\n",
    "# Caràcters a eliminar\n",
    "ansi_codes = ['\\x1b[92m', '\\x1b[94m', '\\x1b[0m', '\\x1b[32m', '\\x1b[33m']\n",
    "\n",
    "pattern = re.compile('|'.join(map(re.escape, ansi_codes)))\n",
    "\n",
    "for filename in os.listdir(folder_path):\n",
    "    if filename.endswith('.txt'):\n",
    "        file_path = os.path.join(folder_path, filename)\n",
    "\n",
    "        with open(file_path, 'r', encoding='utf-8') as f:\n",
    "            content = f.read()\n",
    "\n",
    "        cleaned_content = pattern.sub('', content)\n",
    "\n",
    "        with open(file_path, 'w', encoding='utf-8') as f:\n",
    "            f.write(cleaned_content)\n",
    "\n",
    "        print(f'Processat: {filename}')"
   ]
  },
  {
   "cell_type": "code",
   "execution_count": null,
   "metadata": {
    "id": "6JeAN-pPIQh5"
   },
   "outputs": [],
   "source": []
  }
 ],
 "metadata": {
  "colab": {
   "provenance": []
  },
  "kernelspec": {
   "display_name": "Python 3",
   "name": "python3"
  },
  "language_info": {
   "name": "python"
  }
 },
 "nbformat": 4,
 "nbformat_minor": 0
}
